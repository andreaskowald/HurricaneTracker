{
 "cells": [
  {
   "cell_type": "code",
   "execution_count": 1,
   "id": "3069ff4e-9ba5-4443-a8f3-989603191c82",
   "metadata": {},
   "outputs": [],
   "source": [
    "import os\n",
    "import requests\n",
    "import csv\n",
    "import re\n",
    "import pandas as pd"
   ]
  },
  {
   "cell_type": "code",
   "execution_count": 2,
   "id": "0781b26a-0ee4-4d4c-bada-336d712aa5e2",
   "metadata": {},
   "outputs": [],
   "source": [
    "station_table = pd.read_parquet('../data/station_table.parquet')\n",
    "stations = station_table['station_id']\n",
    "data_url = 'https://www.ndbc.noaa.gov/data/realtime2/'"
   ]
  },
  {
   "cell_type": "code",
   "execution_count": 35,
   "id": "4e705175-1239-42dd-b852-d2bb17d55820",
   "metadata": {},
   "outputs": [],
   "source": [
    "def download_buoy_data(buoy_id):\n",
    "    buoy_data_url = os.path.join(data_url, buoy_id + \".txt\")\n",
    "    response = requests.get(buoy_data_url)\n",
    "    if response.status_code == 200:\n",
    "        with open(\"../data/buoys/txt/\" + buoy_id + \".txt\", \"wb\") as file:\n",
    "            file.write(response.content)\n",
    "        print(f\"Downloaded data for buoy {buoy_id}\")\n",
    "        return True\n",
    "    else:\n",
    "        print(f\"Failed to download data for buoy {buoy_id}\")\n",
    "        return False"
   ]
  },
  {
   "cell_type": "code",
   "execution_count": null,
   "id": "e2de2619-18fe-43f6-902e-1264653c47e1",
   "metadata": {},
   "outputs": [],
   "source": [
    "active_stations = []\n",
    "for station in stations:\n",
    "    if download_buoy_data(station.upper()) == True:\n",
    "        active_stations.append(station)\n",
    "    "
   ]
  },
  {
   "cell_type": "code",
   "execution_count": 6,
   "id": "4c8ef6c6-f20f-428b-94a9-359736cab06c",
   "metadata": {},
   "outputs": [
    {
     "data": {
      "text/plain": [
       "927"
      ]
     },
     "execution_count": 6,
     "metadata": {},
     "output_type": "execute_result"
    }
   ],
   "source": [
    "len(active_stations)"
   ]
  },
  {
   "cell_type": "code",
   "execution_count": 38,
   "id": "c885be31-8e23-4e29-8fca-25e386fe36c4",
   "metadata": {},
   "outputs": [],
   "source": [
    "def process_parc(station_id):\n",
    "    df = pd.read_csv(\"../data/buoys/txt/\" + station_id.upper() + \".txt\", sep=r'\\s+')\n",
    "    df.to_parquet(\"../data/buoys/parquet/\" + station_id.upper() + \".parquet\")\n",
    "    return df"
   ]
  },
  {
   "cell_type": "code",
   "execution_count": 40,
   "id": "0353c72a-1374-404c-82f6-b6c5109ab853",
   "metadata": {},
   "outputs": [],
   "source": [
    "buoy_dict = {}\n",
    "for station in active_stations:\n",
    "    buoy_dict[station] = process_parc(station)\n",
    "    "
   ]
  },
  {
   "cell_type": "code",
   "execution_count": 73,
   "id": "fb73fb6e-0347-4364-852c-bc83ec109d78",
   "metadata": {},
   "outputs": [],
   "source": [
    "def convert_columns_to_float(df):\n",
    "    for column in df.columns:\n",
    "        try:\n",
    "            df[column] = df[column].astype(float)\n",
    "        except ValueError:\n",
    "            df[column] = pd.to_numeric(df[column], errors='coerce')\n",
    "    return df\n"
   ]
  },
  {
   "cell_type": "code",
   "execution_count": 75,
   "id": "0e81433f-bc0b-4e92-9f58-0706b64a8b71",
   "metadata": {},
   "outputs": [],
   "source": [
    "for buoy_id, buoy_df in buoy_dict.items():\n",
    "    buoy_dict[buoy_id] = convert_columns_to_float(buoy_df)"
   ]
  },
  {
   "cell_type": "code",
   "execution_count": null,
   "id": "9aa7b9ca-6f06-45d7-a1b6-8d9536c05f38",
   "metadata": {},
   "outputs": [],
   "source": []
  }
 ],
 "metadata": {
  "kernelspec": {
   "display_name": "HurricaneTracker_kernel",
   "language": "python",
   "name": "hurricanetracker_kernel"
  },
  "language_info": {
   "codemirror_mode": {
    "name": "ipython",
    "version": 3
   },
   "file_extension": ".py",
   "mimetype": "text/x-python",
   "name": "python",
   "nbconvert_exporter": "python",
   "pygments_lexer": "ipython3",
   "version": "3.10.12"
  }
 },
 "nbformat": 4,
 "nbformat_minor": 5
}
